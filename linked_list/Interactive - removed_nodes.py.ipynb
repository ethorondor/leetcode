{
 "cells": [
  {
   "cell_type": "markdown",
   "metadata": {},
   "source": [
    "Connected to genai (Python 3.12.2)"
   ]
  },
  {
   "cell_type": "code",
   "execution_count": 1,
   "id": "39ded656-53b0-47dc-a83e-4b4995589809",
   "metadata": {},
   "outputs": [
    {
     "ename": "TypeError",
     "evalue": "'<' not supported between instances of 'ListNode' and 'int'",
     "output_type": "error",
     "traceback": [
      "\u001b[0;31m---------------------------------------------------------------------------\u001b[0m",
      "\u001b[0;31mTypeError\u001b[0m                                 Traceback (most recent call last)",
      "File \u001b[1;32m/file/leetcode/linked_list/removed_nodes.py:29\u001b[0m\n\u001b[1;32m     27\u001b[0m head\u001b[39m.\u001b[39mnext\u001b[39m.\u001b[39mnext\u001b[39m.\u001b[39mnext\u001b[39m.\u001b[39mnext \u001b[39m=\u001b[39m ListNode(\u001b[39m8\u001b[39m)\n\u001b[1;32m     28\u001b[0m sln \u001b[39m=\u001b[39m Solutions()\n\u001b[0;32m---> 29\u001b[0m sln\u001b[39m.\u001b[39;49mremove_nodes(head)\n",
      "File \u001b[1;32m/file/leetcode/linked_list/removed_nodes.py:7\u001b[0m\n\u001b[1;32m      5\u001b[0m curr \u001b[39m=\u001b[39m head\n\u001b[1;32m      6\u001b[0m \u001b[39mwhile\u001b[39;00m curr:\n\u001b[0;32m----> 7\u001b[0m     \u001b[39mwhile\u001b[39;00m stack \u001b[39mand\u001b[39;00m stack[\u001b[39m-\u001b[39;49m\u001b[39m1\u001b[39;49m] \u001b[39m<\u001b[39;49m curr\u001b[39m.\u001b[39;49mval:\n\u001b[1;32m      8\u001b[0m         stack\u001b[39m.\u001b[39mpop()\n\u001b[1;32m      9\u001b[0m     stack\u001b[39m.\u001b[39mappend(curr)\n",
      "\u001b[0;31mTypeError\u001b[0m: '<' not supported between instances of 'ListNode' and 'int'"
     ]
    }
   ],
   "source": [
    "class Solutions:\n",
    "    def remove_nodes(self, head):\n",
    "        stack = []\n",
    "        curr = head\n",
    "        while curr:\n",
    "            while stack and stack[-1] < curr.val:\n",
    "                stack.pop()\n",
    "            stack.append(curr)\n",
    "            curr = curr.next\n",
    "        \n",
    "        dummy = Node()\n",
    "        h = dummy.next\n",
    "        while stack:\n",
    "            h = stack.pop()\n",
    "            h = h.next\n",
    "        return dummy.next\n",
    "class ListNode:\n",
    "    def __init__(self, val=0, next=None) -> None:\n",
    "        self.val = val\n",
    "        self.next = next\n",
    "\n",
    "head = ListNode(5)\n",
    "head.next = ListNode(2)\n",
    "head.next.next = ListNode(13)\n",
    "head.next.next.next = ListNode(3)\n",
    "head.next.next.next.next = ListNode(8)\n",
    "sln = Solutions()\n",
    "sln.remove_nodes(head)"
   ]
  },
  {
   "cell_type": "code",
   "execution_count": 2,
   "id": "1f3603f1-c3a8-4d2f-9ffc-7c269464e5ce",
   "metadata": {},
   "outputs": [
    {
     "ename": "NameError",
     "evalue": "name 'Node' is not defined",
     "output_type": "error",
     "traceback": [
      "\u001b[0;31m---------------------------------------------------------------------------\u001b[0m",
      "\u001b[0;31mNameError\u001b[0m                                 Traceback (most recent call last)",
      "File \u001b[1;32m/file/leetcode/linked_list/removed_nodes.py:29\u001b[0m\n\u001b[1;32m     27\u001b[0m head\u001b[39m.\u001b[39mnext\u001b[39m.\u001b[39mnext\u001b[39m.\u001b[39mnext\u001b[39m.\u001b[39mnext \u001b[39m=\u001b[39m ListNode(\u001b[39m8\u001b[39m)\n\u001b[1;32m     28\u001b[0m sln \u001b[39m=\u001b[39m Solutions()\n\u001b[0;32m---> 29\u001b[0m sln\u001b[39m.\u001b[39;49mremove_nodes(head)\n",
      "File \u001b[1;32m/file/leetcode/linked_list/removed_nodes.py:12\u001b[0m\n\u001b[1;32m      9\u001b[0m     stack\u001b[39m.\u001b[39mappend(curr)\n\u001b[1;32m     10\u001b[0m     curr \u001b[39m=\u001b[39m curr\u001b[39m.\u001b[39mnext\n\u001b[0;32m---> 12\u001b[0m dummy \u001b[39m=\u001b[39m Node()\n\u001b[1;32m     13\u001b[0m h \u001b[39m=\u001b[39m dummy\u001b[39m.\u001b[39mnext\n\u001b[1;32m     14\u001b[0m \u001b[39mwhile\u001b[39;00m stack:\n",
      "\u001b[0;31mNameError\u001b[0m: name 'Node' is not defined"
     ]
    }
   ],
   "source": [
    "class Solutions:\n",
    "    def remove_nodes(self, head):\n",
    "        stack = []\n",
    "        curr = head\n",
    "        while curr:\n",
    "            while stack and stack[-1].val < curr.val:\n",
    "                stack.pop()\n",
    "            stack.append(curr)\n",
    "            curr = curr.next\n",
    "        \n",
    "        dummy = Node()\n",
    "        h = dummy.next\n",
    "        while stack:\n",
    "            h = stack.pop()\n",
    "            h = h.next\n",
    "        return dummy.next\n",
    "class ListNode:\n",
    "    def __init__(self, val=0, next=None) -> None:\n",
    "        self.val = val\n",
    "        self.next = next\n",
    "\n",
    "head = ListNode(5)\n",
    "head.next = ListNode(2)\n",
    "head.next.next = ListNode(13)\n",
    "head.next.next.next = ListNode(3)\n",
    "head.next.next.next.next = ListNode(8)\n",
    "sln = Solutions()\n",
    "sln.remove_nodes(head)"
   ]
  },
  {
   "cell_type": "code",
   "execution_count": 3,
   "id": "863a2ece-1c5f-4f11-ad58-e46842197e3a",
   "metadata": {},
   "outputs": [],
   "source": [
    "class Solutions:\n",
    "    def remove_nodes(self, head):\n",
    "        stack = []\n",
    "        curr = head\n",
    "        while curr:\n",
    "            while stack and stack[-1].val < curr.val:\n",
    "                stack.pop()\n",
    "            stack.append(curr)\n",
    "            curr = curr.next\n",
    "        \n",
    "        dummy = ListNode()\n",
    "        h = dummy.next\n",
    "        while stack:\n",
    "            h = stack.pop()\n",
    "            h = h.next\n",
    "        return dummy.next\n",
    "class ListNode:\n",
    "    def __init__(self, val=0, next=None) -> None:\n",
    "        self.val = val\n",
    "        self.next = next\n",
    "\n",
    "head = ListNode(5)\n",
    "head.next = ListNode(2)\n",
    "head.next.next = ListNode(13)\n",
    "head.next.next.next = ListNode(3)\n",
    "head.next.next.next.next = ListNode(8)\n",
    "sln = Solutions()\n",
    "sln.remove_nodes(head)"
   ]
  }
 ],
 "metadata": {
  "kernelspec": {
   "display_name": "genai",
   "language": "python",
   "name": "python3"
  },
  "language_info": {
   "name": "python",
   "version": "3.12.2"
  }
 },
 "nbformat": 4,
 "nbformat_minor": 2
}
